{
 "cells": [
  {
   "cell_type": "markdown",
   "metadata": {},
   "source": [
    "# MQTT brokers"
   ]
  },
  {
   "cell_type": "markdown",
   "metadata": {},
   "source": [
    "1. Let us see how to setup an MQTT broker and send messages \n",
    "2. Now, try yourself: Use the diabetes.csv dataset to do the following: \n",
    "    1. Select the following 4 attributes (3 features + 1 class label) : • Glucose, BloodPressure, Insulin, Outcome \n",
    "    2. Normalize Glucose, BloodPressure and Insulin to [0, 1] using MinMax. \n",
    "    3. Store the new data (3 normalized features + 1 class label) in another dataset S. \n",
    "    4. Modify the MQTT example to do the following: • The publisher publishes records in S continuously. When it reaches the end of S, it continues to send from the beginning again. • The subscriber continuously receives the data. For each latest record r received, apply the 3NN classification to the last 5 records before r, and compare the classification result with the Outcome label in r.\n",
    "    Repeat this for 1000 times, and report the number of correct classifications"
   ]
  },
  {
   "cell_type": "code",
   "execution_count": 35,
   "metadata": {},
   "outputs": [],
   "source": [
    "import pandas as pd\n",
    "import numpy as np\n",
    "import matplotlib.pyplot as plt\n",
    "import seaborn as sns\n",
    "from sklearn.preprocessing import MinMaxScaler\n",
    "minMaxScaler = MinMaxScaler()"
   ]
  },
  {
   "cell_type": "markdown",
   "metadata": {
    "vscode": {
     "languageId": "plaintext"
    }
   },
   "source": [
    "1. Let us see how to setup an MQTT broker and send messages \n",
    "2. Now, try yourself: Use the diabetes.csv dataset to do the following: \n",
    "    1. Select the following 4 attributes (3 features + 1 class label) : • Glucose, BloodPressure, Insulin, Outcome \n",
    "    2. Normalize Glucose, BloodPressure and Insulin to [0, 1] using MinMax. \n",
    "    3. Store the new data (3 normalized features + 1 class label) in another dataset S. \n",
    "    \n",
    "\n"
   ]
  },
  {
   "cell_type": "code",
   "execution_count": 36,
   "metadata": {},
   "outputs": [
    {
     "data": {
      "text/html": [
       "<div>\n",
       "<style scoped>\n",
       "    .dataframe tbody tr th:only-of-type {\n",
       "        vertical-align: middle;\n",
       "    }\n",
       "\n",
       "    .dataframe tbody tr th {\n",
       "        vertical-align: top;\n",
       "    }\n",
       "\n",
       "    .dataframe thead th {\n",
       "        text-align: right;\n",
       "    }\n",
       "</style>\n",
       "<table border=\"1\" class=\"dataframe\">\n",
       "  <thead>\n",
       "    <tr style=\"text-align: right;\">\n",
       "      <th></th>\n",
       "      <th>Glucose</th>\n",
       "      <th>BloodPressure</th>\n",
       "      <th>Insulin</th>\n",
       "      <th>Outcome</th>\n",
       "    </tr>\n",
       "  </thead>\n",
       "  <tbody>\n",
       "    <tr>\n",
       "      <th>0</th>\n",
       "      <td>0.743719</td>\n",
       "      <td>0.590164</td>\n",
       "      <td>0.000000</td>\n",
       "      <td>1.0</td>\n",
       "    </tr>\n",
       "    <tr>\n",
       "      <th>1</th>\n",
       "      <td>0.427136</td>\n",
       "      <td>0.540984</td>\n",
       "      <td>0.000000</td>\n",
       "      <td>0.0</td>\n",
       "    </tr>\n",
       "    <tr>\n",
       "      <th>2</th>\n",
       "      <td>0.919598</td>\n",
       "      <td>0.524590</td>\n",
       "      <td>0.000000</td>\n",
       "      <td>1.0</td>\n",
       "    </tr>\n",
       "    <tr>\n",
       "      <th>3</th>\n",
       "      <td>0.447236</td>\n",
       "      <td>0.540984</td>\n",
       "      <td>0.111111</td>\n",
       "      <td>0.0</td>\n",
       "    </tr>\n",
       "    <tr>\n",
       "      <th>4</th>\n",
       "      <td>0.688442</td>\n",
       "      <td>0.327869</td>\n",
       "      <td>0.198582</td>\n",
       "      <td>1.0</td>\n",
       "    </tr>\n",
       "    <tr>\n",
       "      <th>...</th>\n",
       "      <td>...</td>\n",
       "      <td>...</td>\n",
       "      <td>...</td>\n",
       "      <td>...</td>\n",
       "    </tr>\n",
       "    <tr>\n",
       "      <th>763</th>\n",
       "      <td>0.507538</td>\n",
       "      <td>0.622951</td>\n",
       "      <td>0.212766</td>\n",
       "      <td>0.0</td>\n",
       "    </tr>\n",
       "    <tr>\n",
       "      <th>764</th>\n",
       "      <td>0.613065</td>\n",
       "      <td>0.573770</td>\n",
       "      <td>0.000000</td>\n",
       "      <td>0.0</td>\n",
       "    </tr>\n",
       "    <tr>\n",
       "      <th>765</th>\n",
       "      <td>0.608040</td>\n",
       "      <td>0.590164</td>\n",
       "      <td>0.132388</td>\n",
       "      <td>0.0</td>\n",
       "    </tr>\n",
       "    <tr>\n",
       "      <th>766</th>\n",
       "      <td>0.633166</td>\n",
       "      <td>0.491803</td>\n",
       "      <td>0.000000</td>\n",
       "      <td>1.0</td>\n",
       "    </tr>\n",
       "    <tr>\n",
       "      <th>767</th>\n",
       "      <td>0.467337</td>\n",
       "      <td>0.573770</td>\n",
       "      <td>0.000000</td>\n",
       "      <td>0.0</td>\n",
       "    </tr>\n",
       "  </tbody>\n",
       "</table>\n",
       "<p>768 rows × 4 columns</p>\n",
       "</div>"
      ],
      "text/plain": [
       "      Glucose  BloodPressure   Insulin  Outcome\n",
       "0    0.743719       0.590164  0.000000      1.0\n",
       "1    0.427136       0.540984  0.000000      0.0\n",
       "2    0.919598       0.524590  0.000000      1.0\n",
       "3    0.447236       0.540984  0.111111      0.0\n",
       "4    0.688442       0.327869  0.198582      1.0\n",
       "..        ...            ...       ...      ...\n",
       "763  0.507538       0.622951  0.212766      0.0\n",
       "764  0.613065       0.573770  0.000000      0.0\n",
       "765  0.608040       0.590164  0.132388      0.0\n",
       "766  0.633166       0.491803  0.000000      1.0\n",
       "767  0.467337       0.573770  0.000000      0.0\n",
       "\n",
       "[768 rows x 4 columns]"
      ]
     },
     "execution_count": 36,
     "metadata": {},
     "output_type": "execute_result"
    }
   ],
   "source": [
    "diabetes = pd.read_csv('diabetes.csv')\n",
    "\n",
    "s_diabetes = diabetes[['Glucose', 'BloodPressure', 'Insulin', 'Outcome']]\n",
    "s_diabetes.head()\n",
    "\n",
    "minMaxScaler = MinMaxScaler()\n",
    "S = pd.DataFrame(minMaxScaler.fit_transform(s_diabetes), columns=s_diabetes.columns)\n",
    "\n",
    "S"
   ]
  },
  {
   "cell_type": "markdown",
   "metadata": {},
   "source": [
    " 4. Modify the MQTT example to do the following: \n",
    " - The publisher publishes records in S continuously. When it reaches the end of S, it continues to send from the beginning again. \n",
    " - The subscriber continuously receives the data. For each latest record r received, apply the 3NN classification to the last 5 records before r, and compare the classification result with the Outcome label in r."
   ]
  },
  {
   "cell_type": "code",
   "execution_count": 37,
   "metadata": {},
   "outputs": [
    {
     "name": "stdout",
     "output_type": "stream",
     "text": [
      "Publishing...\n"
     ]
    },
    {
     "ename": "KeyboardInterrupt",
     "evalue": "",
     "output_type": "error",
     "traceback": [
      "\u001b[0;31m---------------------------------------------------------------------------\u001b[0m",
      "\u001b[0;31mKeyboardInterrupt\u001b[0m                         Traceback (most recent call last)",
      "Cell \u001b[0;32mIn[37], line 25\u001b[0m\n\u001b[1;32m     22\u001b[0m mqttc\u001b[38;5;241m.\u001b[39mpublish(\u001b[38;5;124m\"\u001b[39m\u001b[38;5;124mmyroom/diabetes\u001b[39m\u001b[38;5;124m\"\u001b[39m, json\u001b[38;5;241m.\u001b[39mdumps(diabetes\u001b[38;5;241m.\u001b[39mto_dict()))\n\u001b[1;32m     24\u001b[0m \u001b[38;5;66;03m# We send the next reading after 2 seconds\u001b[39;00m\n\u001b[0;32m---> 25\u001b[0m time\u001b[38;5;241m.\u001b[39msleep(\u001b[38;5;241m2\u001b[39m)\n\u001b[1;32m     26\u001b[0m index \u001b[38;5;241m=\u001b[39m index \u001b[38;5;241m+\u001b[39m \u001b[38;5;241m1\u001b[39m\n",
      "\u001b[0;31mKeyboardInterrupt\u001b[0m: "
     ]
    }
   ],
   "source": [
    "import time\n",
    "import paho.mqtt.client as mqtt\n",
    "import json\n",
    "\n",
    "# We create a client as the data publisher\n",
    "mqttc = mqtt.Client()\n",
    "# We are connecting to port 1883 and set *keepalive* parameter to 60; *keepalive* is the maximum waiting time in seconds.\n",
    "mqttc.connect(\"mqtt.eclipseprojects.io\", 1883, 60)\n",
    "\n",
    "# We send the following readings repeatedly. Once we reach the end, we start from the beginning again.\n",
    "period = len(S)\n",
    "\n",
    "if __name__ == \"__main__\":\n",
    "    print(\"Publishing...\")\n",
    "    \n",
    "    index = 0\n",
    "    while (index >= 0):\n",
    "        # Get the current data reading to send out\n",
    "        diabetes = S.iloc[index % period]\n",
    "        \n",
    "        #Publisher is open to all! Make sure use your own ‘Data name’ in your exercise of Publisher/Subscriber\n",
    "        mqttc.publish(\"myroom/diabetes\", json.dumps(diabetes.to_dict()))\n",
    "        \n",
    "        # We send the next reading after 2 seconds\n",
    "        time.sleep(2)\n",
    "        index = index + 1"
   ]
  }
 ],
 "metadata": {
  "kernelspec": {
   "display_name": "python-for-data-analysis",
   "language": "python",
   "name": "python3"
  },
  "language_info": {
   "codemirror_mode": {
    "name": "ipython",
    "version": 3
   },
   "file_extension": ".py",
   "mimetype": "text/x-python",
   "name": "python",
   "nbconvert_exporter": "python",
   "pygments_lexer": "ipython3",
   "version": "3.13.1"
  }
 },
 "nbformat": 4,
 "nbformat_minor": 2
}
