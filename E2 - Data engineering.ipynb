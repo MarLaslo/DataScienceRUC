{
 "cells": [
  {
   "cell_type": "markdown",
   "metadata": {},
   "source": [
    "## **Exercise**\n",
    "Complete the following tasks:\n",
    "1. Load the [dataset](https://www.kaggle.com/datasets/lakshmi25npathi/online-retail-dataset) from Kaggle.\n",
    "2. Visualize the dataset and it's structure using appropriate libraries and plots.\n",
    "3. Do some basic cleaning to handle missing values\n",
    "4. Create the following features:\n",
    "  *   Revenue\n",
    "  *   DayOfWeek: to analyze sales trends by weekdays.\n",
    "  *   TotalRevenue for each CustomerID\n",
    "  *   Most popular product based on Revenue.\n",
    "  *   Ordersize by summing Quantity for each InvoiceNo\n",
    "5. Apply a lambda function to:\n",
    "  * Segment customers into tiers based on TotalRevenue (e.g., \"High\", \"Medium\", \"Low\").\n",
    "  * Extract key information from Description and add them as columns (e.g., presence of specific keywords like \"Gift\" or \"Discount\"). At least one extra column should be added\n",
    "  * Categorize transactions as \"Small\", \"Medium\", or \"Large\" based on Revenue.\n",
    "  * **Detect Seasonal Items:** Flag items as \"Christmas\"-themed if the description contains relevant words.\n",
    "  * Classify customers as \"Loyal\", \"Occasional\", or \"One-time\" based on the number of purchases.\n",
    "  *  **Identify Multi-Item Invoices:** Flag invoices with multiple unique items as \"Multi-Item Order\".\n",
    "7. Wrap all fo the above into an ETL pipeline."
   ]
  },
  {
   "cell_type": "markdown",
   "metadata": {},
   "source": [
    "The hand-in exercise for this topic is Task 7 from the notebook “DE_Task.ipynb”. The\n",
    "exercise asks you to wrap the functionality of other tasks in this notebook into an ETL\n",
    "pipeline. Note that the GroupBY tasks (which are extra) are not needed in this ETL pipeline.\n",
    "The data visualization parts are also not needed. The pipeline should contain some of the\n",
    "data cleaning (such as removing duplicates and nulls) and then creation of features which\n",
    "are part of task 4 and 5."
   ]
  },
  {
   "cell_type": "code",
   "execution_count": 1,
   "metadata": {},
   "outputs": [],
   "source": [
    "import pandas as pd\n",
    "import numpy as np\n",
    "import matplotlib.pyplot as plt\n",
    "import seaborn as sns\n",
    "import kagglehub\n",
    "import os"
   ]
  },
  {
   "cell_type": "code",
   "execution_count": 2,
   "metadata": {},
   "outputs": [
    {
     "name": "stdout",
     "output_type": "stream",
     "text": [
      "Warning: Looks like you're using an outdated `kagglehub` version (installed: 0.3.8), please consider upgrading to the latest version (0.3.10).\n",
      "Path to dataset files: /Users/marek/.cache/kagglehub/datasets/lakshmi25npathi/online-retail-dataset/versions/1\n"
     ]
    }
   ],
   "source": [
    "path = kagglehub.dataset_download(\"lakshmi25npathi/online-retail-dataset\")\n",
    "\n",
    "print(\"Path to dataset files:\", path)"
   ]
  },
  {
   "cell_type": "code",
   "execution_count": 3,
   "metadata": {},
   "outputs": [
    {
     "name": "stdout",
     "output_type": "stream",
     "text": [
      "['online_retail_II.xlsx']\n"
     ]
    }
   ],
   "source": [
    "dataset_path = \"/Users/marek/.cache/kagglehub/datasets/lakshmi25npathi/online-retail-dataset/versions/1\"\n",
    "\n",
    "files = os.listdir(dataset_path)\n",
    "print(files)\n"
   ]
  },
  {
   "cell_type": "code",
   "execution_count": 4,
   "metadata": {},
   "outputs": [],
   "source": [
    "file_path = \"/Users/marek/.cache/kagglehub/datasets/lakshmi25npathi/online-retail-dataset/versions/1/online_retail_II.xlsx\"\n",
    "\n",
    "df = pd.read_excel(file_path)"
   ]
  },
  {
   "cell_type": "code",
   "execution_count": 10,
   "metadata": {},
   "outputs": [],
   "source": [
    "def extract(dataset_path):\n",
    "\n",
    "    file_path = dataset_path\n",
    "    df = pd.read_excel(file_path)\n",
    "    return df\n",
    "\n",
    "def transform(df):\n",
    "\n",
    "    # Fill missing 'Description' using the most common value per 'StockCode'\n",
    "    df['Description'] = df.groupby('StockCode')['Description'].transform(lambda x: x.fillna(x.mode()[0]) if not x.mode().empty else x)\n",
    "\n",
    "    # Drop rows where 'Customer ID' is missing\n",
    "    df = df.dropna(subset=['Customer ID'])\n",
    "\n",
    "    # Drop duplicates\n",
    "    df.drop_duplicates(inplace=True)\n",
    "\n",
    "    # Convert Customer ID to integer\n",
    "    df.loc[:, 'Customer ID'] = df['Customer ID'].round().astype('int64')\n",
    "\n",
    "    # Remove negative values fro the quantity\n",
    "    df.loc[:, 'Quantity'] = df['Quantity'].abs()\n",
    "\n",
    "    # Remove TEST entries from the table\n",
    "    df = df[~df['StockCode'].str.contains('TEST', case=False, na=False)]\n",
    "\n",
    "    # Create columns for Revenue and DayOfWeek\n",
    "    df.loc[:,'Revenue'] = df['Quantity'] * df['Price']\n",
    "    df.loc[:,'DayOfWeek'] = df['InvoiceDate'].dt.day_of_week\n",
    "\n",
    "    # Calculate total revenue per customer\n",
    "    customer_revenue = df.groupby('Customer ID')[['Revenue', 'Quantity']].sum().reset_index().rename(columns={'Revenue': 'TotalRevenue'})\n",
    "    # Calculate total revenue per product\n",
    "    product_revenue = df.groupby('StockCode')['Revenue'].sum().reset_index().rename(columns={'Revenue': 'ProductRevenue'})\n",
    "    df = pd.merge(df, product_revenue, on='StockCode', how='left')\n",
    "\n",
    "    # Calculate the size of the orders\n",
    "    order_sizes = df.groupby('Invoice')['Quantity'].sum().reset_index().rename(columns={'Quantity': 'OrderSize'})\n",
    "    df = pd.merge(df, order_sizes, on='Invoice', how='left')\n",
    "\n",
    "    # Add Tier type for the customer\n",
    "    define_tier = lambda rev: 'Low' if rev < 1000 else ('Medium' if rev <= 10000 else 'High')\n",
    "    customer_revenue['Tier'] = customer_revenue['TotalRevenue'].apply(define_tier)\n",
    "\n",
    "\n",
    "    # Extract Product Type for the products\n",
    "    df['ProductType'] = df['Description'].apply(lambda x: 'Postage' if 'POSTAGE' in str(x).upper()\n",
    "                                            else ('Discount' if 'DISCOUNT' in str(x).upper()\n",
    "                                            else ('Manual' if 'MANUAL' in str(x).upper()\n",
    "                                            else ('Adjustment' if 'ADJUSTMENT' in str(x).upper()\n",
    "                                            else ('Gift' if 'GIFT' in str(x).upper()\n",
    "                                            else ('Fee' if 'FEE' in str(x).upper()\n",
    "                                            else ('Sample' if 'Sample' in str(x).upper()\n",
    "                                            else 'Regular')))))))\n",
    "\n",
    "    # Extract Product color \n",
    "    df['Color'] = df['Description'].apply(lambda x: 'Pink' if 'PINK' in str(x).upper()\n",
    "                                        else ('Blue' if 'BLUE' in str(x).upper()\n",
    "                                        else ('Red' if 'RED' in str(x).upper()\n",
    "                                        else ('White' if 'WHITE' in str(x).upper()\n",
    "                                        else ('Black' if 'BLACK' in str(x).upper()\n",
    "                                        else ('Green' if 'GREEN' in str(x).upper()\n",
    "                                        else ('Silver' if 'SILVER' in str(x).upper()\n",
    "                                        else 'Other')))))))\n",
    "    \n",
    "    # Categorise transaction per revenue\n",
    "    df['TransactionSize'] = df['Revenue'].apply(lambda x: 'Small' if x <= 50 else ('Medium' if x <= 500 else 'Large'))\n",
    "\n",
    "    # Mark christmas products\n",
    "    df['IsChristmas'] = df['Description'].apply(lambda x: True if 'CHRISTMAS' in str(x).upper() else False)\n",
    "\n",
    "    # Calculate orders per custoemr\n",
    "    invoices_per_customer = df.groupby('Customer ID')['Invoice'].nunique().reset_index().rename(columns={'Invoice' : 'Purchases'})\n",
    "    customerInfo = pd.merge(customer_revenue, invoices_per_customer, on='Customer ID', how='left')\n",
    "    customerInfo['Engagement'] = customerInfo['Purchases'].apply(lambda x: 'One-Time' if x == 1 else ('Ocassional' if x <= 10 else 'Loyal'))\n",
    "\n",
    "    # Mark invoices with multiple items\n",
    "    items_per_invoice = df.groupby('Invoice')['StockCode'].nunique()\n",
    "    df['IsMultiItem'] = df['Invoice'].map(lambda x: items_per_invoice[x] > 1)\n",
    "\n",
    "    return df, customerInfo\n",
    "\n",
    "def load(df, customerInfo, output_path):\n",
    "    #df.to_csv(output_path, index=False)\n",
    "    print(\"Data saved\")\n",
    "    return df, customerInfo\n",
    "\n",
    "\n",
    "def ETL(dataset_path, output_path):\n",
    "    df = extract(dataset_path)\n",
    "    df_transformed, customerInfo = transform(df)\n",
    "    df_orders_loaded, df_customer_loaded = load(df_transformed, customerInfo, output_path)\n",
    "\n",
    "    return df_orders_loaded, df_customer_loaded\n",
    "\n"
   ]
  },
  {
   "cell_type": "code",
   "execution_count": 11,
   "metadata": {},
   "outputs": [
    {
     "name": "stderr",
     "output_type": "stream",
     "text": [
      "/var/folders/yq/94jp9phd29s5g98ng2hwj0000000gn/T/ipykernel_37892/131827847.py:16: SettingWithCopyWarning: \n",
      "A value is trying to be set on a copy of a slice from a DataFrame\n",
      "\n",
      "See the caveats in the documentation: https://pandas.pydata.org/pandas-docs/stable/user_guide/indexing.html#returning-a-view-versus-a-copy\n",
      "  df.drop_duplicates(inplace=True)\n"
     ]
    },
    {
     "name": "stdout",
     "output_type": "stream",
     "text": [
      "Data saved\n",
      "  Invoice StockCode                          Description  Quantity  \\\n",
      "0  489434     85048  15CM CHRISTMAS GLASS BALL 20 LIGHTS        12   \n",
      "1  489434    79323P                   PINK CHERRY LIGHTS        12   \n",
      "2  489434    79323W                  WHITE CHERRY LIGHTS        12   \n",
      "3  489434     22041         RECORD FRAME 7\" SINGLE SIZE         48   \n",
      "4  489434     21232       STRAWBERRY CERAMIC TRINKET BOX        24   \n",
      "\n",
      "          InvoiceDate  Price  Customer ID         Country  Revenue  DayOfWeek  \\\n",
      "0 2009-12-01 07:45:00   6.95      13085.0  United Kingdom     83.4          1   \n",
      "1 2009-12-01 07:45:00   6.75      13085.0  United Kingdom     81.0          1   \n",
      "2 2009-12-01 07:45:00   6.75      13085.0  United Kingdom     81.0          1   \n",
      "3 2009-12-01 07:45:00   2.10      13085.0  United Kingdom    100.8          1   \n",
      "4 2009-12-01 07:45:00   1.25      13085.0  United Kingdom     30.0          1   \n",
      "\n",
      "   ProductRevenue  OrderSize ProductType  Color TransactionSize  IsChristmas  \\\n",
      "0        10093.45        166     Regular  Other          Medium         True   \n",
      "1        17138.45        166     Regular   Pink          Medium        False   \n",
      "2        23718.15        166     Regular  White          Medium        False   \n",
      "3         7348.50        166     Regular  Other          Medium        False   \n",
      "4        30355.59        166     Regular  Other           Small        False   \n",
      "\n",
      "   IsMultiItem  \n",
      "0         True  \n",
      "1         True  \n",
      "2         True  \n",
      "3         True  \n",
      "4         True  \n",
      "   Customer ID  TotalRevenue  Quantity    Tier  Purchases  Engagement\n",
      "0      12346.0        589.46        40     Low          5  Ocassional\n",
      "1      12347.0       1323.32       828  Medium          2  Ocassional\n",
      "2      12348.0        222.16       373     Low          1    One-Time\n",
      "3      12349.0       2695.29       998  Medium          4  Ocassional\n",
      "4      12351.0        300.93       261     Low          1    One-Time\n"
     ]
    }
   ],
   "source": [
    "path = \"/Users/marek/.cache/kagglehub/datasets/lakshmi25npathi/online-retail-dataset/versions/1/online_retail_II.xlsx\"\n",
    "output = \"define a path\"\n",
    "\n",
    "df, customers = ETL(path, output)\n",
    "print(df.head())\n",
    "print(customers.head())"
   ]
  }
 ],
 "metadata": {
  "kernelspec": {
   "display_name": "python-for-data-analysis",
   "language": "python",
   "name": "python3"
  },
  "language_info": {
   "codemirror_mode": {
    "name": "ipython",
    "version": 3
   },
   "file_extension": ".py",
   "mimetype": "text/x-python",
   "name": "python",
   "nbconvert_exporter": "python",
   "pygments_lexer": "ipython3",
   "version": "3.13.1"
  }
 },
 "nbformat": 4,
 "nbformat_minor": 2
}
