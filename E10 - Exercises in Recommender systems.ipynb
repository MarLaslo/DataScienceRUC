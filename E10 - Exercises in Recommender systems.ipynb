{
 "cells": [
  {
   "cell_type": "markdown",
   "id": "e22c86bb-0222-4a1b-bc99-cc19b0a937c8",
   "metadata": {},
   "source": [
    "# Exercises in Recommender systems\n",
    "\n",
    "This notebook contains exercises in Recommender systems"
   ]
  },
  {
   "cell_type": "code",
   "execution_count": 91,
   "id": "4b330364-859c-4e63-9c3f-4a7c6db8b210",
   "metadata": {},
   "outputs": [],
   "source": [
    "import os\n",
    "import kagglehub\n",
    "import pandas as pd\n",
    "import numpy as np\n",
    "\n",
    "from sklearn.feature_extraction.text import TfidfVectorizer\n",
    "from sklearn.metrics.pairwise import cosine_similarity\n",
    "from sklearn.metrics.pairwise import linear_kernel\n"
   ]
  },
  {
   "cell_type": "code",
   "execution_count": 92,
   "id": "1e0379b2",
   "metadata": {},
   "outputs": [
    {
     "name": "stdout",
     "output_type": "stream",
     "text": [
      "Warning: Looks like you're using an outdated `kagglehub` version (installed: 0.3.8), please consider upgrading to the latest version (0.3.10).\n"
     ]
    }
   ],
   "source": [
    "# Download latest version\n",
    "path = kagglehub.dataset_download(\"khusheekapoor/coursera-courses-dataset-2021\")\n",
    "dataset_path = \"/Users/marek/.cache/kagglehub/datasets/khusheekapoor/coursera-courses-dataset-2021/versions/1\"\n",
    "files = os.listdir(dataset_path)\n",
    "file_path = \"/Users/marek/.cache/kagglehub/datasets/khusheekapoor/coursera-courses-dataset-2021/versions/1/Coursera.csv\"\n"
   ]
  },
  {
   "cell_type": "code",
   "execution_count": 93,
   "id": "ed837f78",
   "metadata": {},
   "outputs": [
    {
     "data": {
      "text/html": [
       "<div>\n",
       "<style scoped>\n",
       "    .dataframe tbody tr th:only-of-type {\n",
       "        vertical-align: middle;\n",
       "    }\n",
       "\n",
       "    .dataframe tbody tr th {\n",
       "        vertical-align: top;\n",
       "    }\n",
       "\n",
       "    .dataframe thead th {\n",
       "        text-align: right;\n",
       "    }\n",
       "</style>\n",
       "<table border=\"1\" class=\"dataframe\">\n",
       "  <thead>\n",
       "    <tr style=\"text-align: right;\">\n",
       "      <th></th>\n",
       "      <th>Course Name</th>\n",
       "      <th>University</th>\n",
       "      <th>Difficulty Level</th>\n",
       "      <th>Course Rating</th>\n",
       "      <th>Course URL</th>\n",
       "      <th>Course Description</th>\n",
       "      <th>Skills</th>\n",
       "    </tr>\n",
       "  </thead>\n",
       "  <tbody>\n",
       "    <tr>\n",
       "      <th>0</th>\n",
       "      <td>Write A Feature Length Screenplay For Film Or ...</td>\n",
       "      <td>Michigan State University</td>\n",
       "      <td>Beginner</td>\n",
       "      <td>4.8</td>\n",
       "      <td>https://www.coursera.org/learn/write-a-feature...</td>\n",
       "      <td>Write a Full Length Feature Film Script  In th...</td>\n",
       "      <td>Drama  Comedy  peering  screenwriting  film  D...</td>\n",
       "    </tr>\n",
       "    <tr>\n",
       "      <th>1</th>\n",
       "      <td>Business Strategy: Business Model Canvas Analy...</td>\n",
       "      <td>Coursera Project Network</td>\n",
       "      <td>Beginner</td>\n",
       "      <td>4.8</td>\n",
       "      <td>https://www.coursera.org/learn/canvas-analysis...</td>\n",
       "      <td>By the end of this guided project, you will be...</td>\n",
       "      <td>Finance  business plan  persona (user experien...</td>\n",
       "    </tr>\n",
       "    <tr>\n",
       "      <th>2</th>\n",
       "      <td>Silicon Thin Film Solar Cells</td>\n",
       "      <td>�cole Polytechnique</td>\n",
       "      <td>Advanced</td>\n",
       "      <td>4.1</td>\n",
       "      <td>https://www.coursera.org/learn/silicon-thin-fi...</td>\n",
       "      <td>This course consists of a general presentation...</td>\n",
       "      <td>chemistry  physics  Solar Energy  film  lambda...</td>\n",
       "    </tr>\n",
       "    <tr>\n",
       "      <th>3</th>\n",
       "      <td>Finance for Managers</td>\n",
       "      <td>IESE Business School</td>\n",
       "      <td>Intermediate</td>\n",
       "      <td>4.8</td>\n",
       "      <td>https://www.coursera.org/learn/operational-fin...</td>\n",
       "      <td>When it comes to numbers, there is always more...</td>\n",
       "      <td>accounts receivable  dupont analysis  analysis...</td>\n",
       "    </tr>\n",
       "    <tr>\n",
       "      <th>4</th>\n",
       "      <td>Retrieve Data using Single-Table SQL Queries</td>\n",
       "      <td>Coursera Project Network</td>\n",
       "      <td>Beginner</td>\n",
       "      <td>4.6</td>\n",
       "      <td>https://www.coursera.org/learn/single-table-sq...</td>\n",
       "      <td>In this course you�ll learn how to effectively...</td>\n",
       "      <td>Data Analysis  select (sql)  database manageme...</td>\n",
       "    </tr>\n",
       "  </tbody>\n",
       "</table>\n",
       "</div>"
      ],
      "text/plain": [
       "                                         Course Name  \\\n",
       "0  Write A Feature Length Screenplay For Film Or ...   \n",
       "1  Business Strategy: Business Model Canvas Analy...   \n",
       "2                      Silicon Thin Film Solar Cells   \n",
       "3                               Finance for Managers   \n",
       "4       Retrieve Data using Single-Table SQL Queries   \n",
       "\n",
       "                  University Difficulty Level Course Rating  \\\n",
       "0  Michigan State University         Beginner           4.8   \n",
       "1   Coursera Project Network         Beginner           4.8   \n",
       "2        �cole Polytechnique         Advanced           4.1   \n",
       "3       IESE Business School     Intermediate           4.8   \n",
       "4   Coursera Project Network         Beginner           4.6   \n",
       "\n",
       "                                          Course URL  \\\n",
       "0  https://www.coursera.org/learn/write-a-feature...   \n",
       "1  https://www.coursera.org/learn/canvas-analysis...   \n",
       "2  https://www.coursera.org/learn/silicon-thin-fi...   \n",
       "3  https://www.coursera.org/learn/operational-fin...   \n",
       "4  https://www.coursera.org/learn/single-table-sq...   \n",
       "\n",
       "                                  Course Description  \\\n",
       "0  Write a Full Length Feature Film Script  In th...   \n",
       "1  By the end of this guided project, you will be...   \n",
       "2  This course consists of a general presentation...   \n",
       "3  When it comes to numbers, there is always more...   \n",
       "4  In this course you�ll learn how to effectively...   \n",
       "\n",
       "                                              Skills  \n",
       "0  Drama  Comedy  peering  screenwriting  film  D...  \n",
       "1  Finance  business plan  persona (user experien...  \n",
       "2  chemistry  physics  Solar Energy  film  lambda...  \n",
       "3  accounts receivable  dupont analysis  analysis...  \n",
       "4  Data Analysis  select (sql)  database manageme...  "
      ]
     },
     "execution_count": 93,
     "metadata": {},
     "output_type": "execute_result"
    }
   ],
   "source": [
    "ccd = pd.read_csv(file_path)\n",
    "ccd.head()"
   ]
  },
  {
   "cell_type": "markdown",
   "id": "ec3d5bd8-7a3d-4c08-b89f-7bf6934e7c1a",
   "metadata": {},
   "source": [
    "## Exercise 1\n",
    "\n",
    "Using the \"Coursera Courses Dataset 2021\" available at kaggle ([https://www.kaggle.com/datasets/khusheekapoor/coursera-courses-dataset-2021](https://www.kaggle.com/datasets/khusheekapoor/coursera-courses-dataset-2021)) or on moodle, to do the following:\n",
    "\n",
    "1. Create a Content-based filtering recommender system based on the Course Descriptions.\n",
    "2. Create a Content-based filtering recommender system based on the Skills.\n",
    "\n",
    "Using the \"Book Recommendation Dataset\" available at kaggle ([https://www.kaggle.com/datasets/arashnic/book-recommendation-dataset](https://www.kaggle.com/datasets/arashnic/book-recommendation-dataset)) or on moodle, to do the following:\n",
    "\n",
    "3. Load in the `Ratings.csv` file (on moodle, it is called `Books_Ratings.csv`). Group by `User-ID` and sort by `Book-Rating` in descending order to get the users who rated most books. Filter the rating data to only contain the 200 users that rated most books.\n",
    "4. Create a Collaborative filtering recommender system based on the user ratings from 3 together with the `Books.csv` dataset."
   ]
  },
  {
   "cell_type": "code",
   "execution_count": 94,
   "id": "72ab4dc6",
   "metadata": {},
   "outputs": [
    {
     "data": {
      "text/plain": [
       "Course Name\n",
       "Write A Feature Length Screenplay For Film Or Television                 0\n",
       "Business Strategy: Business Model Canvas Analysis with Miro              1\n",
       "Silicon Thin Film Solar Cells                                            2\n",
       "Finance for Managers                                                     3\n",
       "Retrieve Data using Single-Table SQL Queries                             4\n",
       "                                                                      ... \n",
       "Capstone: Retrieving, Processing, and Visualizing Data with Python    3517\n",
       "Patrick Henry: Forgotten Founder                                      3518\n",
       "Business intelligence and data analytics: Generate insights           3519\n",
       "Rigid Body Dynamics                                                   3520\n",
       "Architecting with Google Kubernetes Engine: Production                3521\n",
       "Length: 3522, dtype: int64"
      ]
     },
     "execution_count": 94,
     "metadata": {},
     "output_type": "execute_result"
    }
   ],
   "source": [
    "tfidf = TfidfVectorizer(stop_words='english')\n",
    "\n",
    "tfidf_matrix_dsc = tfidf.fit_transform(ccd['Course Description'])\n",
    "tfidf_matrix_skll = tfidf.fit_transform(ccd['Skills'])\n",
    "\n",
    "cosine_sim_dsc = linear_kernel(tfidf_matrix_dsc, tfidf_matrix_dsc)\n",
    "cosine_sim_skll = linear_kernel(tfidf_matrix_skll, tfidf_matrix_skll)\n",
    "\n",
    "indices = pd.Series(ccd.index, index=ccd['Course Name']).drop_duplicates()\n",
    "indices"
   ]
  },
  {
   "cell_type": "code",
   "execution_count": 95,
   "id": "b47623a3-48c8-422e-a095-f5b2b503b853",
   "metadata": {},
   "outputs": [],
   "source": [
    "def get_recommendations_desc(title, cosine_sim=cosine_sim_dsc, indices=indices):    \n",
    "    idx = indices[title]\n",
    "    sim_scores = list(enumerate(cosine_sim[idx]))\n",
    "    sim_scores = sorted(sim_scores, key=lambda x: x[1], reverse=True)\n",
    "    sim_scores = sim_scores[1:11]\n",
    "    course_indices = [i[0] for i in sim_scores]\n",
    "    return ccd['Course Name'].iloc[course_indices]\n",
    "\n",
    "\n",
    "def get_recommendations_skll(title, cosine_sim=cosine_sim_skll, indices=indices, ccd=ccd):    \n",
    "    idx = indices[title]\n",
    "    sim_scores = list(enumerate(cosine_sim[idx]))\n",
    "    sim_scores = sorted(sim_scores, key=lambda x: x[1], reverse=True)\n",
    "    sim_scores = sim_scores[1:11]\n",
    "    course_indices = [i[0] for i in sim_scores]\n",
    "    return ccd['Course Name'].iloc[course_indices]\n",
    "\n",
    "\n"
   ]
  },
  {
   "cell_type": "code",
   "execution_count": 96,
   "id": "9e9e4609",
   "metadata": {},
   "outputs": [
    {
     "name": "stdout",
     "output_type": "stream",
     "text": [
      "527                                      Age of Jefferson\n",
      "2579    Chemerinsky on Constitutional Law - The Struct...\n",
      "906     Revolutionary Ideas: Borders, Elections, Const...\n",
      "3307    From Freedom Rides to Ferguson: Narratives of ...\n",
      "1512    The Making of the US President: A Short Histor...\n",
      "510     Chemerinsky on Constitutional Law � Individual...\n",
      "2276    Revolutionary Ideas: Utility, Justice, Equalit...\n",
      "766                         Innovating in a Digital World\n",
      "2646                                   The Ancient Greeks\n",
      "3226             Introduction to Satellite Communications\n",
      "Name: Course Name, dtype: object\n",
      "2365    Deciphering Secrets: The Illuminated Manuscrip...\n",
      "1431    Plagues, Witches, and War: The Worlds of Histo...\n",
      "2980    The History of Modern Israel � Part I: From an...\n",
      "78                   Russian History: from Lenin to Putin\n",
      "1430             Ideas from the History of Graphic Design\n",
      "1092                       Religions and Society in China\n",
      "811                          America Through Foreign Eyes\n",
      "2194               The Cosmopolitan Medieval Arabic World\n",
      "150                                Modern American Poetry\n",
      "862     The Modern World, Part One: Global History fro...\n",
      "Name: Course Name, dtype: object\n"
     ]
    }
   ],
   "source": [
    "print(get_recommendations_desc('Patrick Henry: Forgotten Founder'))\n",
    "print(get_recommendations_skll('Patrick Henry: Forgotten Founder'))"
   ]
  },
  {
   "cell_type": "code",
   "execution_count": 97,
   "id": "4259868a",
   "metadata": {},
   "outputs": [],
   "source": [
    "books_ratings = pd.read_csv('Books_Ratings.csv')\n",
    "books = pd.read_csv('Books.csv', dtype={'Year-Of-Publication': str})\n",
    "\n",
    "books_ratings_df = books_ratings[books_ratings['Book-Rating'] != 0]\n",
    "top200 = books_ratings_df['User-ID'].value_counts().nlargest(200)\n",
    "books_ratings_df_t200 = books_ratings_df.merge(top200.to_frame(), on='User-ID')\n",
    "\n",
    "ratings_df = books_ratings_df_t200.merge(books, on = 'ISBN')"
   ]
  },
  {
   "cell_type": "code",
   "execution_count": 98,
   "id": "d2d81a57",
   "metadata": {},
   "outputs": [
    {
     "data": {
      "text/plain": [
       "(200, 52079)"
      ]
     },
     "execution_count": 98,
     "metadata": {},
     "output_type": "execute_result"
    }
   ],
   "source": [
    "ratings_df_m = ratings_df.pivot_table(index=[\"User-ID\"], columns=['ISBN'], values=\"Book-Rating\")\n",
    "ratings_df_m.shape"
   ]
  },
  {
   "cell_type": "code",
   "execution_count": 99,
   "id": "793098cd",
   "metadata": {},
   "outputs": [
    {
     "data": {
      "text/html": [
       "<div>\n",
       "<style scoped>\n",
       "    .dataframe tbody tr th:only-of-type {\n",
       "        vertical-align: middle;\n",
       "    }\n",
       "\n",
       "    .dataframe tbody tr th {\n",
       "        vertical-align: top;\n",
       "    }\n",
       "\n",
       "    .dataframe thead th {\n",
       "        text-align: right;\n",
       "    }\n",
       "</style>\n",
       "<table border=\"1\" class=\"dataframe\">\n",
       "  <thead>\n",
       "    <tr style=\"text-align: right;\">\n",
       "      <th></th>\n",
       "      <th>User-ID</th>\n",
       "      <th>ISBN</th>\n",
       "      <th>Book-Rating</th>\n",
       "      <th>count</th>\n",
       "    </tr>\n",
       "  </thead>\n",
       "  <tbody>\n",
       "    <tr>\n",
       "      <th>0</th>\n",
       "      <td>2276</td>\n",
       "      <td>0020960808</td>\n",
       "      <td>10</td>\n",
       "      <td>212</td>\n",
       "    </tr>\n",
       "    <tr>\n",
       "      <th>1</th>\n",
       "      <td>2276</td>\n",
       "      <td>0030632366</td>\n",
       "      <td>9</td>\n",
       "      <td>212</td>\n",
       "    </tr>\n",
       "    <tr>\n",
       "      <th>2</th>\n",
       "      <td>2276</td>\n",
       "      <td>0061030643</td>\n",
       "      <td>8</td>\n",
       "      <td>212</td>\n",
       "    </tr>\n",
       "    <tr>\n",
       "      <th>3</th>\n",
       "      <td>2276</td>\n",
       "      <td>0061098353</td>\n",
       "      <td>8</td>\n",
       "      <td>212</td>\n",
       "    </tr>\n",
       "    <tr>\n",
       "      <th>4</th>\n",
       "      <td>2276</td>\n",
       "      <td>0061099155</td>\n",
       "      <td>9</td>\n",
       "      <td>212</td>\n",
       "    </tr>\n",
       "    <tr>\n",
       "      <th>...</th>\n",
       "      <td>...</td>\n",
       "      <td>...</td>\n",
       "      <td>...</td>\n",
       "      <td>...</td>\n",
       "    </tr>\n",
       "    <tr>\n",
       "      <th>79626</th>\n",
       "      <td>274061</td>\n",
       "      <td>1892213737</td>\n",
       "      <td>10</td>\n",
       "      <td>215</td>\n",
       "    </tr>\n",
       "    <tr>\n",
       "      <th>79627</th>\n",
       "      <td>274061</td>\n",
       "      <td>189221394X</td>\n",
       "      <td>10</td>\n",
       "      <td>215</td>\n",
       "    </tr>\n",
       "    <tr>\n",
       "      <th>79628</th>\n",
       "      <td>274061</td>\n",
       "      <td>1892213958</td>\n",
       "      <td>10</td>\n",
       "      <td>215</td>\n",
       "    </tr>\n",
       "    <tr>\n",
       "      <th>79629</th>\n",
       "      <td>274061</td>\n",
       "      <td>1892213966</td>\n",
       "      <td>10</td>\n",
       "      <td>215</td>\n",
       "    </tr>\n",
       "    <tr>\n",
       "      <th>79630</th>\n",
       "      <td>274061</td>\n",
       "      <td>1931514925</td>\n",
       "      <td>10</td>\n",
       "      <td>215</td>\n",
       "    </tr>\n",
       "  </tbody>\n",
       "</table>\n",
       "<p>79631 rows × 4 columns</p>\n",
       "</div>"
      ],
      "text/plain": [
       "       User-ID        ISBN  Book-Rating  count\n",
       "0         2276  0020960808           10    212\n",
       "1         2276  0030632366            9    212\n",
       "2         2276  0061030643            8    212\n",
       "3         2276  0061098353            8    212\n",
       "4         2276  0061099155            9    212\n",
       "...        ...         ...          ...    ...\n",
       "79626   274061  1892213737           10    215\n",
       "79627   274061  189221394X           10    215\n",
       "79628   274061  1892213958           10    215\n",
       "79629   274061  1892213966           10    215\n",
       "79630   274061  1931514925           10    215\n",
       "\n",
       "[79631 rows x 4 columns]"
      ]
     },
     "execution_count": 99,
     "metadata": {},
     "output_type": "execute_result"
    }
   ],
   "source": [
    "books_ratings_df_t200"
   ]
  },
  {
   "cell_type": "code",
   "execution_count": 100,
   "id": "cdf86215",
   "metadata": {},
   "outputs": [
    {
     "name": "stdout",
     "output_type": "stream",
     "text": [
      "<class 'pandas.core.frame.DataFrame'>\n",
      "RangeIndex: 71677 entries, 0 to 71676\n",
      "Data columns (total 11 columns):\n",
      " #   Column               Non-Null Count  Dtype \n",
      "---  ------               --------------  ----- \n",
      " 0   User-ID              71677 non-null  int64 \n",
      " 1   ISBN                 71677 non-null  object\n",
      " 2   Book-Rating          71677 non-null  int64 \n",
      " 3   count                71677 non-null  int64 \n",
      " 4   Book-Title           71677 non-null  object\n",
      " 5   Book-Author          71676 non-null  object\n",
      " 6   Year-Of-Publication  71677 non-null  object\n",
      " 7   Publisher            71675 non-null  object\n",
      " 8   Image-URL-S          71677 non-null  object\n",
      " 9   Image-URL-M          71677 non-null  object\n",
      " 10  Image-URL-L          71677 non-null  object\n",
      "dtypes: int64(3), object(8)\n",
      "memory usage: 6.0+ MB\n"
     ]
    }
   ],
   "source": [
    "ratings_df.info()"
   ]
  },
  {
   "cell_type": "code",
   "execution_count": 101,
   "id": "47146fd9",
   "metadata": {},
   "outputs": [],
   "source": [
    "def user_based_recommender(input_user, user_book_df, rate_ratio=0.1, num_recommendations=5):\n",
    "    input_user_df = user_book_df[user_book_df.index == input_user]\n",
    "    input_user_books_rated = input_user_df.dropna(axis=1).columns.tolist()\n",
    "    \n",
    "    books_rated_df = user_book_df[input_user_books_rated]\n",
    "\n",
    "    # Counting how many books other users have rated that the input user have also rated\n",
    "    user_book_count = books_rated_df.T.notnull().sum()\n",
    "    user_book_count = user_book_count.reset_index()\n",
    "    user_book_count.columns = [\"User-ID\", \"book_count\"]\n",
    "    \n",
    "    # Selecting similar users based on a rating similarity count ratio threshold\n",
    "    user_same_books = user_book_count[user_book_count[\"book_count\"] > (len(input_user_books_rated) * rate_ratio)][\"User-ID\"]\n",
    "\n",
    "    # Creating a correlation matrix based on ratings\n",
    "    final_df = books_rated_df[books_rated_df.index.isin(user_same_books)]\n",
    "    corr_df = final_df.T.corr()\n",
    "    \n",
    "    # Created top correlated users\n",
    "    user_corr = corr_df[input_user].reset_index()\n",
    "    user_corr = user_corr.rename(columns={input_user: 'correlation'})\n",
    "    user_corr = user_corr.sort_values(by=\"correlation\", ascending=False)\n",
    "    user_corr = user_corr.loc[user_corr[\"User-ID\"] != input_user]\n",
    "    user_corr = user_corr.reset_index(drop=True)\n",
    "\n",
    "    # Creating correlated weighting of rating\n",
    "    top_users_ratings = user_corr.merge(ratings_df[[\"User-ID\", \"ISBN\", \"Book-Rating\"]], how=\"inner\")\n",
    "    top_users_ratings[\"weighted_rating\"] = top_users_ratings[\"correlation\"] * top_users_ratings[\"Book-Rating\"]\n",
    "\n",
    "    # Creating a recommendation dataframe\n",
    "    recommendation_df = top_users_ratings.groupby(\"ISBN\").agg({\"weighted_rating\": \"mean\"}).sort_values(by=\"weighted_rating\", ascending=False)\n",
    "    recommendation_df = recommendation_df.reset_index()\n",
    "\n",
    "    # Creating the final recommendations\n",
    "    books_to_be_recommended = recommendation_df.merge(books[['ISBN', 'Book-Title']], on=\"ISBN\")\n",
    "    books_to_be_recommended = books_to_be_recommended.head(num_recommendations)\n",
    "\n",
    "    return books_to_be_recommended[\"Book-Title\"]\n"
   ]
  },
  {
   "cell_type": "code",
   "execution_count": 102,
   "id": "e6199b90",
   "metadata": {},
   "outputs": [
    {
     "data": {
      "text/plain": [
       "0              A Kid's Guide To How to Save the Planet\n",
       "1                                          The Dionnes\n",
       "2    Ultimate Japanese: Advanced (Living Language U...\n",
       "3                                  Stanislaski Sisters\n",
       "4                36 Hours Christmas (Silhouette Promo)\n",
       "Name: Book-Title, dtype: object"
      ]
     },
     "execution_count": 102,
     "metadata": {},
     "output_type": "execute_result"
    }
   ],
   "source": [
    "user_based_recommender(2276, ratings_df_m)"
   ]
  },
  {
   "cell_type": "markdown",
   "id": "ff520700-6927-44c0-8ec6-4133b87bd485",
   "metadata": {},
   "source": [
    "## Exercise 2\n",
    "\n",
    "Using the \"Coursera Courses Dataset 2021\" from Exercise 1, to do the following:\n",
    "\n",
    "1. [Optional] Create a Content-based filtering recommender system based on both the Course Descriptions and the Skills.\n",
    "2. [Optional] Can you come up with a way of including Difficulty Level and Course Rating in your recommender system?"
   ]
  },
  {
   "cell_type": "code",
   "execution_count": null,
   "id": "0d88e9f5-91fd-430b-a9e4-957993639f5e",
   "metadata": {},
   "outputs": [],
   "source": []
  }
 ],
 "metadata": {
  "kernelspec": {
   "display_name": "python-for-data-analysis",
   "language": "python",
   "name": "python3"
  },
  "language_info": {
   "codemirror_mode": {
    "name": "ipython",
    "version": 3
   },
   "file_extension": ".py",
   "mimetype": "text/x-python",
   "name": "python",
   "nbconvert_exporter": "python",
   "pygments_lexer": "ipython3",
   "version": "3.13.1"
  }
 },
 "nbformat": 4,
 "nbformat_minor": 5
}
