{
 "cells": [
  {
   "cell_type": "markdown",
   "id": "b97c04cc-55e2-417b-841f-b9d51301dc0f",
   "metadata": {},
   "source": [
    "# Exercises in Classification I"
   ]
  },
  {
   "cell_type": "code",
   "execution_count": 1,
   "id": "5d69c015-d7cc-4749-a0cb-6f2d2f338390",
   "metadata": {},
   "outputs": [],
   "source": [
    "import numpy as np\n",
    "import pandas as pd\n",
    "from matplotlib import pyplot as plt\n",
    "import seaborn as sns\n",
    "\n",
    "import statsmodels.api as sm\n",
    "from sklearn import linear_model\n",
    "from sklearn.metrics import r2_score, mean_absolute_error, mean_squared_error, root_mean_squared_error\n",
    "\n",
    "from sklearn.model_selection import train_test_split\n",
    "from sklearn.metrics import accuracy_score\n",
    "from sklearn.neighbors import KNeighborsClassifier"
   ]
  },
  {
   "cell_type": "markdown",
   "id": "1d3ab775-587e-46d3-8952-c1ad4c3006ac",
   "metadata": {},
   "source": [
    "## Exercise 2\n",
    "\n",
    "In this exercise, we will predict the two income classes in the adult dataset (The file \"adult.csv\" is also on Moodle). \n",
    "\n",
    "Answer the following questions:\n",
    "1. Clean the `income` variable such that it has only two values\n",
    "2. Select as set of minimum two feature variables you want to use to predict `income`. Do the necessary transformation of these variables.\n",
    "3. Create X and y dataset and split the datasets into training and testing sets\n",
    "4. Train a KNN classifier to predict the variable `income` based on the feature variables selected in 2 - try out some different Ks \n",
    "5. Train a logistic regression classifier to predict the variable `income` based on the feature variables selected in 2 and compare it to the KNN classifier.\n",
    "6. Train a decision tree classifier to predict the variable `income` based on the feature variables selected in 2 and compare it to the previous classifiers.\n",
    "7. Train a random forest classifier to predict the variable `income` based on the feature variables selected in 2 and compare it to the previous classifiers.\n",
    "8. Train a AdaBoost classifier to predict the variable `income` based on the feature variables selected in 2 and compare it to the previous classifiers."
   ]
  },
  {
   "cell_type": "code",
   "execution_count": 6,
   "id": "fd89545a-a7ca-4c59-9bea-a909ff4249b5",
   "metadata": {},
   "outputs": [
    {
     "data": {
      "text/plain": [
       "sex\n",
       "Male      32650\n",
       "Female    16192\n",
       "Name: count, dtype: int64"
      ]
     },
     "execution_count": 6,
     "metadata": {},
     "output_type": "execute_result"
    }
   ],
   "source": [
    "adult_data = pd.read_csv('adult.csv')\n",
    "adult_data['sex'].value_counts()"
   ]
  },
  {
   "cell_type": "markdown",
   "id": "625df55d",
   "metadata": {},
   "source": [
    "1. Clean the `income` variable such that it has only two values\n"
   ]
  },
  {
   "cell_type": "code",
   "execution_count": 7,
   "id": "85bb451b",
   "metadata": {},
   "outputs": [
    {
     "data": {
      "text/html": [
       "<div>\n",
       "<style scoped>\n",
       "    .dataframe tbody tr th:only-of-type {\n",
       "        vertical-align: middle;\n",
       "    }\n",
       "\n",
       "    .dataframe tbody tr th {\n",
       "        vertical-align: top;\n",
       "    }\n",
       "\n",
       "    .dataframe thead th {\n",
       "        text-align: right;\n",
       "    }\n",
       "</style>\n",
       "<table border=\"1\" class=\"dataframe\">\n",
       "  <thead>\n",
       "    <tr style=\"text-align: right;\">\n",
       "      <th></th>\n",
       "      <th>age</th>\n",
       "      <th>workclass</th>\n",
       "      <th>fnlwgt</th>\n",
       "      <th>education</th>\n",
       "      <th>education-num</th>\n",
       "      <th>marital-status</th>\n",
       "      <th>occupation</th>\n",
       "      <th>relationship</th>\n",
       "      <th>race</th>\n",
       "      <th>sex</th>\n",
       "      <th>capital-gain</th>\n",
       "      <th>capital-loss</th>\n",
       "      <th>hours-per-week</th>\n",
       "      <th>native-country</th>\n",
       "      <th>income</th>\n",
       "    </tr>\n",
       "  </thead>\n",
       "  <tbody>\n",
       "    <tr>\n",
       "      <th>0</th>\n",
       "      <td>39</td>\n",
       "      <td>State-gov</td>\n",
       "      <td>77516</td>\n",
       "      <td>Bachelors</td>\n",
       "      <td>13</td>\n",
       "      <td>Never-married</td>\n",
       "      <td>Adm-clerical</td>\n",
       "      <td>Not-in-family</td>\n",
       "      <td>White</td>\n",
       "      <td>1</td>\n",
       "      <td>2174</td>\n",
       "      <td>0</td>\n",
       "      <td>40</td>\n",
       "      <td>United-States</td>\n",
       "      <td>0</td>\n",
       "    </tr>\n",
       "    <tr>\n",
       "      <th>1</th>\n",
       "      <td>50</td>\n",
       "      <td>Self-emp-not-inc</td>\n",
       "      <td>83311</td>\n",
       "      <td>Bachelors</td>\n",
       "      <td>13</td>\n",
       "      <td>Married-civ-spouse</td>\n",
       "      <td>Exec-managerial</td>\n",
       "      <td>Husband</td>\n",
       "      <td>White</td>\n",
       "      <td>1</td>\n",
       "      <td>0</td>\n",
       "      <td>0</td>\n",
       "      <td>13</td>\n",
       "      <td>United-States</td>\n",
       "      <td>0</td>\n",
       "    </tr>\n",
       "    <tr>\n",
       "      <th>2</th>\n",
       "      <td>38</td>\n",
       "      <td>Private</td>\n",
       "      <td>215646</td>\n",
       "      <td>HS-grad</td>\n",
       "      <td>9</td>\n",
       "      <td>Divorced</td>\n",
       "      <td>Handlers-cleaners</td>\n",
       "      <td>Not-in-family</td>\n",
       "      <td>White</td>\n",
       "      <td>1</td>\n",
       "      <td>0</td>\n",
       "      <td>0</td>\n",
       "      <td>40</td>\n",
       "      <td>United-States</td>\n",
       "      <td>0</td>\n",
       "    </tr>\n",
       "    <tr>\n",
       "      <th>3</th>\n",
       "      <td>53</td>\n",
       "      <td>Private</td>\n",
       "      <td>234721</td>\n",
       "      <td>11th</td>\n",
       "      <td>7</td>\n",
       "      <td>Married-civ-spouse</td>\n",
       "      <td>Handlers-cleaners</td>\n",
       "      <td>Husband</td>\n",
       "      <td>Black</td>\n",
       "      <td>1</td>\n",
       "      <td>0</td>\n",
       "      <td>0</td>\n",
       "      <td>40</td>\n",
       "      <td>United-States</td>\n",
       "      <td>0</td>\n",
       "    </tr>\n",
       "    <tr>\n",
       "      <th>4</th>\n",
       "      <td>28</td>\n",
       "      <td>Private</td>\n",
       "      <td>338409</td>\n",
       "      <td>Bachelors</td>\n",
       "      <td>13</td>\n",
       "      <td>Married-civ-spouse</td>\n",
       "      <td>Prof-specialty</td>\n",
       "      <td>Wife</td>\n",
       "      <td>Black</td>\n",
       "      <td>0</td>\n",
       "      <td>0</td>\n",
       "      <td>0</td>\n",
       "      <td>40</td>\n",
       "      <td>Cuba</td>\n",
       "      <td>0</td>\n",
       "    </tr>\n",
       "    <tr>\n",
       "      <th>...</th>\n",
       "      <td>...</td>\n",
       "      <td>...</td>\n",
       "      <td>...</td>\n",
       "      <td>...</td>\n",
       "      <td>...</td>\n",
       "      <td>...</td>\n",
       "      <td>...</td>\n",
       "      <td>...</td>\n",
       "      <td>...</td>\n",
       "      <td>...</td>\n",
       "      <td>...</td>\n",
       "      <td>...</td>\n",
       "      <td>...</td>\n",
       "      <td>...</td>\n",
       "      <td>...</td>\n",
       "    </tr>\n",
       "    <tr>\n",
       "      <th>48837</th>\n",
       "      <td>39</td>\n",
       "      <td>Private</td>\n",
       "      <td>215419</td>\n",
       "      <td>Bachelors</td>\n",
       "      <td>13</td>\n",
       "      <td>Divorced</td>\n",
       "      <td>Prof-specialty</td>\n",
       "      <td>Not-in-family</td>\n",
       "      <td>White</td>\n",
       "      <td>0</td>\n",
       "      <td>0</td>\n",
       "      <td>0</td>\n",
       "      <td>36</td>\n",
       "      <td>United-States</td>\n",
       "      <td>0</td>\n",
       "    </tr>\n",
       "    <tr>\n",
       "      <th>48838</th>\n",
       "      <td>64</td>\n",
       "      <td>NaN</td>\n",
       "      <td>321403</td>\n",
       "      <td>HS-grad</td>\n",
       "      <td>9</td>\n",
       "      <td>Widowed</td>\n",
       "      <td>NaN</td>\n",
       "      <td>Other-relative</td>\n",
       "      <td>Black</td>\n",
       "      <td>1</td>\n",
       "      <td>0</td>\n",
       "      <td>0</td>\n",
       "      <td>40</td>\n",
       "      <td>United-States</td>\n",
       "      <td>0</td>\n",
       "    </tr>\n",
       "    <tr>\n",
       "      <th>48839</th>\n",
       "      <td>38</td>\n",
       "      <td>Private</td>\n",
       "      <td>374983</td>\n",
       "      <td>Bachelors</td>\n",
       "      <td>13</td>\n",
       "      <td>Married-civ-spouse</td>\n",
       "      <td>Prof-specialty</td>\n",
       "      <td>Husband</td>\n",
       "      <td>White</td>\n",
       "      <td>1</td>\n",
       "      <td>0</td>\n",
       "      <td>0</td>\n",
       "      <td>50</td>\n",
       "      <td>United-States</td>\n",
       "      <td>0</td>\n",
       "    </tr>\n",
       "    <tr>\n",
       "      <th>48840</th>\n",
       "      <td>44</td>\n",
       "      <td>Private</td>\n",
       "      <td>83891</td>\n",
       "      <td>Bachelors</td>\n",
       "      <td>13</td>\n",
       "      <td>Divorced</td>\n",
       "      <td>Adm-clerical</td>\n",
       "      <td>Own-child</td>\n",
       "      <td>Asian-Pac-Islander</td>\n",
       "      <td>1</td>\n",
       "      <td>5455</td>\n",
       "      <td>0</td>\n",
       "      <td>40</td>\n",
       "      <td>United-States</td>\n",
       "      <td>0</td>\n",
       "    </tr>\n",
       "    <tr>\n",
       "      <th>48841</th>\n",
       "      <td>35</td>\n",
       "      <td>Self-emp-inc</td>\n",
       "      <td>182148</td>\n",
       "      <td>Bachelors</td>\n",
       "      <td>13</td>\n",
       "      <td>Married-civ-spouse</td>\n",
       "      <td>Exec-managerial</td>\n",
       "      <td>Husband</td>\n",
       "      <td>White</td>\n",
       "      <td>1</td>\n",
       "      <td>0</td>\n",
       "      <td>0</td>\n",
       "      <td>60</td>\n",
       "      <td>United-States</td>\n",
       "      <td>1</td>\n",
       "    </tr>\n",
       "  </tbody>\n",
       "</table>\n",
       "<p>48842 rows × 15 columns</p>\n",
       "</div>"
      ],
      "text/plain": [
       "       age         workclass  fnlwgt  education  education-num  \\\n",
       "0       39         State-gov   77516  Bachelors             13   \n",
       "1       50  Self-emp-not-inc   83311  Bachelors             13   \n",
       "2       38           Private  215646    HS-grad              9   \n",
       "3       53           Private  234721       11th              7   \n",
       "4       28           Private  338409  Bachelors             13   \n",
       "...    ...               ...     ...        ...            ...   \n",
       "48837   39           Private  215419  Bachelors             13   \n",
       "48838   64               NaN  321403    HS-grad              9   \n",
       "48839   38           Private  374983  Bachelors             13   \n",
       "48840   44           Private   83891  Bachelors             13   \n",
       "48841   35      Self-emp-inc  182148  Bachelors             13   \n",
       "\n",
       "           marital-status         occupation    relationship  \\\n",
       "0           Never-married       Adm-clerical   Not-in-family   \n",
       "1      Married-civ-spouse    Exec-managerial         Husband   \n",
       "2                Divorced  Handlers-cleaners   Not-in-family   \n",
       "3      Married-civ-spouse  Handlers-cleaners         Husband   \n",
       "4      Married-civ-spouse     Prof-specialty            Wife   \n",
       "...                   ...                ...             ...   \n",
       "48837            Divorced     Prof-specialty   Not-in-family   \n",
       "48838             Widowed                NaN  Other-relative   \n",
       "48839  Married-civ-spouse     Prof-specialty         Husband   \n",
       "48840            Divorced       Adm-clerical       Own-child   \n",
       "48841  Married-civ-spouse    Exec-managerial         Husband   \n",
       "\n",
       "                     race  sex  capital-gain  capital-loss  hours-per-week  \\\n",
       "0                   White    1          2174             0              40   \n",
       "1                   White    1             0             0              13   \n",
       "2                   White    1             0             0              40   \n",
       "3                   Black    1             0             0              40   \n",
       "4                   Black    0             0             0              40   \n",
       "...                   ...  ...           ...           ...             ...   \n",
       "48837               White    0             0             0              36   \n",
       "48838               Black    1             0             0              40   \n",
       "48839               White    1             0             0              50   \n",
       "48840  Asian-Pac-Islander    1          5455             0              40   \n",
       "48841               White    1             0             0              60   \n",
       "\n",
       "      native-country  income  \n",
       "0      United-States       0  \n",
       "1      United-States       0  \n",
       "2      United-States       0  \n",
       "3      United-States       0  \n",
       "4               Cuba       0  \n",
       "...              ...     ...  \n",
       "48837  United-States       0  \n",
       "48838  United-States       0  \n",
       "48839  United-States       0  \n",
       "48840  United-States       0  \n",
       "48841  United-States       1  \n",
       "\n",
       "[48842 rows x 15 columns]"
      ]
     },
     "execution_count": 7,
     "metadata": {},
     "output_type": "execute_result"
    }
   ],
   "source": [
    "adult_data['income'] = adult_data['income'].str.replace('.', '', regex=False)\n",
    "adult_data['sex'] = adult_data['sex'].map({'Male' : 1, 'Female' : 0})\n",
    "adult_data['income'] = adult_data['income'].map({'>50K' : 1, '<=50K' : 0})\n",
    "\n",
    "adult_data"
   ]
  },
  {
   "cell_type": "markdown",
   "id": "073b90c5",
   "metadata": {},
   "source": [
    "2. Select as set of minimum two feature variables you want to use to predict `income`. Do the necessary transformation of these variables.\n",
    "3. Create X and y dataset and split the datasets into training and testing sets\n",
    "4. Train a KNN classifier to predict the variable `income` based on the feature variables selected in 2 - try out some different Ks "
   ]
  },
  {
   "cell_type": "code",
   "execution_count": 8,
   "id": "a3ace7df",
   "metadata": {},
   "outputs": [],
   "source": [
    "x_var = adult_data[['fnlwgt', 'age', 'education-num', 'sex']]\n",
    "y_var = adult_data[['income']]\n",
    "\n",
    "X_train, X_test, y_train, y_test = train_test_split(x_var, y_var.values.ravel(), test_size=0.3, random_state=123)"
   ]
  },
  {
   "cell_type": "code",
   "execution_count": 9,
   "id": "3611b4d6",
   "metadata": {},
   "outputs": [],
   "source": [
    "def knnSweep(X, y, maxK):\n",
    "\n",
    "    accuracy_row_list = []\n",
    "    \n",
    "    X_train, X_test, y_train, y_test = train_test_split(X, y, test_size=0.3, random_state=123)\n",
    "        \n",
    "    for k in range(2, maxK):\n",
    "        knn = KNeighborsClassifier(n_neighbors=k)\n",
    "        knn.fit(X_train, y_train)\n",
    "\n",
    "        y_pred_train = knn.predict(X_train)\n",
    "        y_pred_test = knn.predict(X_test)\n",
    "            \n",
    "        accuracy_train = accuracy_score(y_train, y_pred_train)\n",
    "        accuracy_test = accuracy_score(y_test, y_pred_test)\n",
    "\n",
    "        accuracy_row_list.append({\"k\": k, \"Training accuracy\": accuracy_train, \"Test accuracy\": accuracy_test})\n",
    "\n",
    "    return pd.DataFrame(accuracy_row_list)"
   ]
  },
  {
   "cell_type": "code",
   "execution_count": 10,
   "id": "85454d23",
   "metadata": {},
   "outputs": [
    {
     "data": {
      "text/html": [
       "<div>\n",
       "<style scoped>\n",
       "    .dataframe tbody tr th:only-of-type {\n",
       "        vertical-align: middle;\n",
       "    }\n",
       "\n",
       "    .dataframe tbody tr th {\n",
       "        vertical-align: top;\n",
       "    }\n",
       "\n",
       "    .dataframe thead th {\n",
       "        text-align: right;\n",
       "    }\n",
       "</style>\n",
       "<table border=\"1\" class=\"dataframe\">\n",
       "  <thead>\n",
       "    <tr style=\"text-align: right;\">\n",
       "      <th></th>\n",
       "      <th>k</th>\n",
       "      <th>Training accuracy</th>\n",
       "      <th>Test accuracy</th>\n",
       "    </tr>\n",
       "  </thead>\n",
       "  <tbody>\n",
       "    <tr>\n",
       "      <th>0</th>\n",
       "      <td>2</td>\n",
       "      <td>0.853315</td>\n",
       "      <td>0.750836</td>\n",
       "    </tr>\n",
       "    <tr>\n",
       "      <th>1</th>\n",
       "      <td>3</td>\n",
       "      <td>0.845009</td>\n",
       "      <td>0.713847</td>\n",
       "    </tr>\n",
       "    <tr>\n",
       "      <th>2</th>\n",
       "      <td>4</td>\n",
       "      <td>0.810875</td>\n",
       "      <td>0.750495</td>\n",
       "    </tr>\n",
       "    <tr>\n",
       "      <th>3</th>\n",
       "      <td>5</td>\n",
       "      <td>0.805756</td>\n",
       "      <td>0.726950</td>\n",
       "    </tr>\n",
       "    <tr>\n",
       "      <th>4</th>\n",
       "      <td>6</td>\n",
       "      <td>0.790547</td>\n",
       "      <td>0.749949</td>\n",
       "    </tr>\n",
       "    <tr>\n",
       "      <th>5</th>\n",
       "      <td>7</td>\n",
       "      <td>0.786774</td>\n",
       "      <td>0.734252</td>\n",
       "    </tr>\n",
       "    <tr>\n",
       "      <th>6</th>\n",
       "      <td>8</td>\n",
       "      <td>0.780075</td>\n",
       "      <td>0.751450</td>\n",
       "    </tr>\n",
       "    <tr>\n",
       "      <th>7</th>\n",
       "      <td>9</td>\n",
       "      <td>0.777121</td>\n",
       "      <td>0.741964</td>\n",
       "    </tr>\n",
       "    <tr>\n",
       "      <th>8</th>\n",
       "      <td>10</td>\n",
       "      <td>0.773641</td>\n",
       "      <td>0.755818</td>\n",
       "    </tr>\n",
       "    <tr>\n",
       "      <th>9</th>\n",
       "      <td>11</td>\n",
       "      <td>0.773202</td>\n",
       "      <td>0.747424</td>\n",
       "    </tr>\n",
       "    <tr>\n",
       "      <th>10</th>\n",
       "      <td>12</td>\n",
       "      <td>0.769400</td>\n",
       "      <td>0.756091</td>\n",
       "    </tr>\n",
       "    <tr>\n",
       "      <th>11</th>\n",
       "      <td>13</td>\n",
       "      <td>0.768376</td>\n",
       "      <td>0.748243</td>\n",
       "    </tr>\n",
       "    <tr>\n",
       "      <th>12</th>\n",
       "      <td>14</td>\n",
       "      <td>0.765948</td>\n",
       "      <td>0.755067</td>\n",
       "    </tr>\n",
       "  </tbody>\n",
       "</table>\n",
       "</div>"
      ],
      "text/plain": [
       "     k  Training accuracy  Test accuracy\n",
       "0    2           0.853315       0.750836\n",
       "1    3           0.845009       0.713847\n",
       "2    4           0.810875       0.750495\n",
       "3    5           0.805756       0.726950\n",
       "4    6           0.790547       0.749949\n",
       "5    7           0.786774       0.734252\n",
       "6    8           0.780075       0.751450\n",
       "7    9           0.777121       0.741964\n",
       "8   10           0.773641       0.755818\n",
       "9   11           0.773202       0.747424\n",
       "10  12           0.769400       0.756091\n",
       "11  13           0.768376       0.748243\n",
       "12  14           0.765948       0.755067"
      ]
     },
     "execution_count": 10,
     "metadata": {},
     "output_type": "execute_result"
    }
   ],
   "source": [
    "acc_df = knnSweep(x_var, y_var.values.ravel(), 15)\n",
    "acc_df"
   ]
  },
  {
   "cell_type": "code",
   "execution_count": 11,
   "id": "3c04468e",
   "metadata": {},
   "outputs": [
    {
     "data": {
      "image/png": "[encoded data removed]",
      "text/plain": [
       "<Figure size 640x480 with 1 Axes>"
      ]
     },
     "metadata": {},
     "output_type": "display_data"
    }
   ],
   "source": [
    "plt.plot(acc_df[\"k\"], acc_df[\"Training accuracy\"], label = 'Training accuracy', color='blue', marker='o', linestyle='solid')\n",
    "plt.plot(acc_df[\"k\"], acc_df[\"Test accuracy\"], label = 'Test accurcay', color='orange', marker='o', linestyle='solid')\n",
    "\n",
    "plt.xlabel('K')\n",
    "plt.ylabel('Accuracy')\n",
    "plt.title(\"Accuracy of different Ks\")\n",
    "plt.legend()\n",
    "\n",
    "plt.show()"
   ]
  },
  {
   "cell_type": "markdown",
   "id": "22229884",
   "metadata": {},
   "source": [
    "5. Train a logistic regression classifier to predict the variable `income` based on the feature variables selected in 2 and compare it to the KNN classifier."
   ]
  },
  {
   "cell_type": "code",
   "execution_count": 12,
   "id": "bb711dad",
   "metadata": {},
   "outputs": [],
   "source": [
    "logit_model_sk = linear_model.LogisticRegression(max_iter=1000)\n",
    "logit_model_sk.fit(X_train, y_train)\n",
    "\n",
    "y_pred_train_log = logit_model_sk.predict(X_train)\n",
    "y_pred_test_log = logit_model_sk.predict(X_test)"
   ]
  },
  {
   "cell_type": "code",
   "execution_count": 13,
   "id": "4a9e29cc",
   "metadata": {},
   "outputs": [],
   "source": [
    "knn = KNeighborsClassifier(n_neighbors=10)\n",
    "knn.fit(X_train, y_train)\n",
    "\n",
    "y_pred_train_knn = knn.predict(X_train)\n",
    "y_pred_test_knn = knn.predict(X_test)"
   ]
  },
  {
   "cell_type": "code",
   "execution_count": 14,
   "id": "cb5fcc9a",
   "metadata": {},
   "outputs": [
    {
     "name": "stdout",
     "output_type": "stream",
     "text": [
      "KNN Train Accuracy: 0.7736406446517886\n",
      "\n",
      "KNN Test Accuracy: 0.7558179212447963\n",
      "\n",
      "Log Train Accuracy: 0.7959577641931616\n",
      "\n",
      "LOG Test Accuracy: 0.8002456834777861\n",
      "\n"
     ]
    }
   ],
   "source": [
    "print('KNN Train Accuracy: {}\\r\\n'.format(accuracy_score(y_train, y_pred_train_knn)))\n",
    "print('KNN Test Accuracy: {}\\r\\n'.format(accuracy_score(y_test, y_pred_test_knn)))\n",
    "print('Log Train Accuracy: {}\\r\\n'.format(accuracy_score(y_train, y_pred_train_log)))\n",
    "print('LOG Test Accuracy: {}\\r\\n'.format(accuracy_score(y_test, y_pred_test_log)))"
   ]
  },
  {
   "cell_type": "markdown",
   "id": "57e47164",
   "metadata": {},
   "source": [
    "6. Train a decision tree classifier to predict the variable `income` based on the feature variables selected in 2 and compare it to the previous classifiers."
   ]
  },
  {
   "cell_type": "code",
   "execution_count": 15,
   "id": "8e4f2754",
   "metadata": {},
   "outputs": [
    {
     "data": {
      "image/png": "[encoded data removed]",
      "text/plain": [
       "<Figure size 640x480 with 2 Axes>"
      ]
     },
     "metadata": {},
     "output_type": "display_data"
    }
   ],
   "source": [
    "from sklearn.tree import DecisionTreeClassifier\n",
    "from sklearn.metrics import confusion_matrix, ConfusionMatrixDisplay\n",
    "\n",
    "dtree = DecisionTreeClassifier(max_depth=3)\n",
    "dtree = dtree.fit(X_train, y_train)\n",
    "\n",
    "y_pred_train_dt = dtree.predict(X_train)\n",
    "y_pred_test_dt = dtree.predict(X_test)\n",
    "\n",
    "ConfusionMatrixDisplay(confusion_matrix(y_train, y_pred_train_dt)).plot()\n",
    "plt.show()"
   ]
  },
  {
   "cell_type": "code",
   "execution_count": 16,
   "id": "682eb94a",
   "metadata": {},
   "outputs": [
    {
     "data": {
      "image/png": "[encoded data removed]",
      "text/plain": [
       "<Figure size 640x480 with 2 Axes>"
      ]
     },
     "metadata": {},
     "output_type": "display_data"
    }
   ],
   "source": [
    "ConfusionMatrixDisplay(confusion_matrix(y_test, y_pred_test_dt)).plot()\n",
    "plt.show()"
   ]
  },
  {
   "cell_type": "code",
   "execution_count": 17,
   "id": "c51e3453",
   "metadata": {},
   "outputs": [
    {
     "name": "stdout",
     "output_type": "stream",
     "text": [
      "KNN Train Accuracy: 0.7736406446517886\n",
      "\n",
      "KNN Test Accuracy: 0.7558179212447963\n",
      "\n",
      "Log Train Accuracy: 0.7959577641931616\n",
      "\n",
      "LOG Test Accuracy: 0.8002456834777861\n",
      "\n",
      "DT Train Accuracy: 0.7999649009915469\n",
      "\n",
      "DT Test Accuracy: 0.8074114515798813\n",
      "\n"
     ]
    }
   ],
   "source": [
    "print('KNN Train Accuracy: {}\\r\\n'.format(accuracy_score(y_train, y_pred_train_knn)))\n",
    "print('KNN Test Accuracy: {}\\r\\n'.format(accuracy_score(y_test, y_pred_test_knn)))\n",
    "print('Log Train Accuracy: {}\\r\\n'.format(accuracy_score(y_train, y_pred_train_log)))\n",
    "print('LOG Test Accuracy: {}\\r\\n'.format(accuracy_score(y_test, y_pred_test_log)))\n",
    "print('DT Train Accuracy: {}\\r\\n'.format(accuracy_score(y_train, y_pred_train_dt)))\n",
    "print('DT Test Accuracy: {}\\r\\n'.format(accuracy_score(y_test, y_pred_test_dt)))"
   ]
  },
  {
   "cell_type": "markdown",
   "id": "67bc78f7",
   "metadata": {},
   "source": [
    "7. Train a random forest classifier to predict the variable `income` based on the feature variables selected in 2 and compare it to the previous classifiers."
   ]
  },
  {
   "cell_type": "code",
   "execution_count": 18,
   "id": "8bddfa37",
   "metadata": {},
   "outputs": [],
   "source": [
    "from sklearn.ensemble import RandomForestClassifier\n",
    "rf_model = RandomForestClassifier(max_depth=3) \n",
    "rf_model.fit(X_train, y_train)\n",
    "y_pred_train_rf = rf_model.predict(X_train)\n",
    "y_pred_test_rf = rf_model.predict(X_test)"
   ]
  },
  {
   "cell_type": "code",
   "execution_count": 19,
   "id": "0d65eca5",
   "metadata": {},
   "outputs": [
    {
     "name": "stdout",
     "output_type": "stream",
     "text": [
      "KNN Train Accuracy: 0.7736406446517886\n",
      "\n",
      "KNN Test Accuracy: 0.7558179212447963\n",
      "\n",
      "Log Train Accuracy: 0.7959577641931616\n",
      "\n",
      "LOG Test Accuracy: 0.8002456834777861\n",
      "\n",
      "DT Train Accuracy: 0.7999649009915469\n",
      "\n",
      "DT Test Accuracy: 0.8074114515798813\n",
      "\n",
      "RF Train Accuracy: 0.8016906022404867\n",
      "\n",
      "RF Test Accuracy: 0.8089128506107964\n",
      "\n"
     ]
    }
   ],
   "source": [
    "print('KNN Train Accuracy: {}\\r\\n'.format(accuracy_score(y_train, y_pred_train_knn)))\n",
    "print('KNN Test Accuracy: {}\\r\\n'.format(accuracy_score(y_test, y_pred_test_knn)))\n",
    "print('Log Train Accuracy: {}\\r\\n'.format(accuracy_score(y_train, y_pred_train_log)))\n",
    "print('LOG Test Accuracy: {}\\r\\n'.format(accuracy_score(y_test, y_pred_test_log)))\n",
    "print('DT Train Accuracy: {}\\r\\n'.format(accuracy_score(y_train, y_pred_train_dt)))\n",
    "print('DT Test Accuracy: {}\\r\\n'.format(accuracy_score(y_test, y_pred_test_dt)))\n",
    "print('RF Train Accuracy: {}\\r\\n'.format(accuracy_score(y_train, y_pred_train_rf)))\n",
    "print('RF Test Accuracy: {}\\r\\n'.format(accuracy_score(y_test, y_pred_test_rf)))"
   ]
  },
  {
   "cell_type": "markdown",
   "id": "bead79de",
   "metadata": {},
   "source": [
    "8. Train a AdaBoost classifier to predict the variable `income` based on the feature variables selected in 2 and compare it to the previous classifiers."
   ]
  },
  {
   "cell_type": "code",
   "execution_count": 20,
   "id": "2209eee0",
   "metadata": {},
   "outputs": [],
   "source": [
    "import xgboost as xgb\n",
    "\n",
    "xgb_model = xgb.XGBClassifier()\n",
    "xgb_model.fit(X_train, y_train)\n",
    "y_pred_train_xgb = xgb_model.predict(X_train)\n",
    "y_pred_test_xgb = xgb_model.predict(X_test)"
   ]
  },
  {
   "cell_type": "code",
   "execution_count": 21,
   "id": "8df2e505",
   "metadata": {},
   "outputs": [
    {
     "name": "stdout",
     "output_type": "stream",
     "text": [
      "KNN Train Accuracy: 0.7736406446517886\n",
      "\n",
      "KNN Test Accuracy: 0.7558179212447963\n",
      "\n",
      "Log Train Accuracy: 0.7959577641931616\n",
      "\n",
      "LOG Test Accuracy: 0.8002456834777861\n",
      "\n",
      "DT Train Accuracy: 0.7999649009915469\n",
      "\n",
      "DT Test Accuracy: 0.8074114515798813\n",
      "\n",
      "RF Train Accuracy: 0.8016906022404867\n",
      "\n",
      "RF Test Accuracy: 0.8089128506107964\n",
      "\n",
      "XGB Train Accuracy: 0.8263769048524379\n",
      "\n",
      "XGB Test Accuracy: 0.799699720193817\n",
      "\n"
     ]
    }
   ],
   "source": [
    "print('KNN Train Accuracy: {}\\r\\n'.format(accuracy_score(y_train, y_pred_train_knn)))\n",
    "print('KNN Test Accuracy: {}\\r\\n'.format(accuracy_score(y_test, y_pred_test_knn)))\n",
    "print('Log Train Accuracy: {}\\r\\n'.format(accuracy_score(y_train, y_pred_train_log)))\n",
    "print('LOG Test Accuracy: {}\\r\\n'.format(accuracy_score(y_test, y_pred_test_log)))\n",
    "print('DT Train Accuracy: {}\\r\\n'.format(accuracy_score(y_train, y_pred_train_dt)))\n",
    "print('DT Test Accuracy: {}\\r\\n'.format(accuracy_score(y_test, y_pred_test_dt)))\n",
    "print('RF Train Accuracy: {}\\r\\n'.format(accuracy_score(y_train, y_pred_train_rf)))\n",
    "print('RF Test Accuracy: {}\\r\\n'.format(accuracy_score(y_test, y_pred_test_rf)))\n",
    "print('XGB Train Accuracy: {}\\r\\n'.format(accuracy_score(y_train, y_pred_train_xgb)))\n",
    "print('XGB Test Accuracy: {}\\r\\n'.format(accuracy_score(y_test, y_pred_test_xgb)))"
   ]
  }
 ],
 "metadata": {
  "kernelspec": {
   "display_name": "python-for-data-analysis",
   "language": "python",
   "name": "python3"
  },
  "language_info": {
   "codemirror_mode": {
    "name": "ipython",
    "version": 3
   },
   "file_extension": ".py",
   "mimetype": "text/x-python",
   "name": "python",
   "nbconvert_exporter": "python",
   "pygments_lexer": "ipython3",
   "version": "3.13.1"
  }
 },
 "nbformat": 4,
 "nbformat_minor": 5
}
